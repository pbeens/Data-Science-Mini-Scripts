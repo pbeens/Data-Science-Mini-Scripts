{
  "nbformat": 4,
  "nbformat_minor": 0,
  "metadata": {
    "colab": {
      "provenance": [],
      "authorship_tag": "ABX9TyPLFS4JFQL19sOgCvrGz8Tt"
    },
    "kernelspec": {
      "name": "python3",
      "display_name": "Python 3"
    },
    "language_info": {
      "name": "python"
    }
  },
  "cells": [
    {
      "cell_type": "markdown",
      "source": [
        "A **Jupyter Notebook** is an interactive environment where you can:\n",
        "\n",
        "Write and run code (usually Python).\n",
        "Add explanations and reflections in plain text using **Markdown**.\n",
        "Visualize data instantly with graphs and tables.\n"
      ],
      "metadata": {
        "id": "IcQBDkcx64uZ"
      }
    },
    {
      "cell_type": "code",
      "execution_count": null,
      "metadata": {
        "id": "DvC6lj3s4khD"
      },
      "outputs": [],
      "source": [
        "import pandas as pd\n",
        "\n",
        "import plotly.express as px\n",
        "\n",
        "# Sample data\n",
        "\n",
        "df = pd.DataFrame({\n",
        "    'Day': ['Mon', 'Tue', 'Wed', 'Thu', 'Fri'],\n",
        "    'Rainfall (mm)': [0, 5, 10, 0, 3]\n",
        "})\n",
        "\n",
        "df.head()"
      ]
    },
    {
      "cell_type": "markdown",
      "source": [
        "Now let’s graph it:"
      ],
      "metadata": {
        "id": "Dz8oVEd67GA6"
      }
    },
    {
      "cell_type": "code",
      "source": [
        "fig = px.bar(df, x='Day', y='Rainfall (mm)', title='Weekly Rainfall')\n",
        "\n",
        "fig.show()"
      ],
      "metadata": {
        "id": "LmAUzTsn6v5h"
      },
      "execution_count": null,
      "outputs": []
    }
  ]
}