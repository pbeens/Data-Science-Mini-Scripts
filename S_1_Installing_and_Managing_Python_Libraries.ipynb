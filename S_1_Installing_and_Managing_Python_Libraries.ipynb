{
  "cells": [
    {
      "cell_type": "markdown",
      "metadata": {},
      "source": [
        "<a href=\"https://hub.callysto.ca/jupyter/hub/user-redirect/git-pull?repo=https%3A%2F%2Fgithub.com%2Fpbeens%2FData-Science-Mini-Scripts&branch=main&subPath=S_1_Installing_and_Managing_Python_Libraries.ipynb&depth=1\" target=\"_blank\"><img src=\"https://raw.githubusercontent.com/Data-Dunkers/lessons/main/images/open-in-callysto-button.svg?sanitize=true\" width=\"123\" height=\"24\" alt=\"Open in Callysto\"></a>\n",
        "<a href=\"https://colab.research.google.com/github/pbeens/Data-Science-Mini-Scripts/blob/main/S_1_Installing_and_Managing_Python_Libraries.ipynb\" target=\"_blank\">    <img src=\"https://raw.githubusercontent.com/Data-Dunkers/lessons/main/images/open-in-colab-button.svg?sanitize=true\" width=\"123\" height=\"24\" alt=\"Open in Colab\"></a>\n"
      ]
    },
    {
      "cell_type": "code",
      "execution_count": null,
      "metadata": {
        "id": "mEec5RXIAV5B"
      },
      "outputs": [],
      "source": [
        "# Sample data\n",
        "\n",
        "df = pd.DataFrame({\n",
        "    'Day': ['Mon', 'Tue', 'Wed', 'Thu', 'Fri'],\n",
        "    'Rainfall (mm)': [0, 5, 10, 0, 3]\n",
        "})"
      ]
    },
    {
      "cell_type": "code",
      "execution_count": null,
      "metadata": {
        "id": "RQQeGIPUAwS9"
      },
      "outputs": [],
      "source": [
        "!pip install plotly"
      ]
    },
    {
      "cell_type": "code",
      "execution_count": null,
      "metadata": {
        "id": "fegmJ--lA1vV"
      },
      "outputs": [],
      "source": [
        "!pip install --upgrade pandas"
      ]
    },
    {
      "cell_type": "code",
      "execution_count": null,
      "metadata": {
        "id": "rZKrKOUoA2o-"
      },
      "outputs": [],
      "source": [
        "!pip list"
      ]
    },
    {
      "cell_type": "code",
      "execution_count": null,
      "metadata": {
        "id": "K-7ZanYkA7E2"
      },
      "outputs": [],
      "source": []
    }
  ],
  "metadata": {
    "colab": {
      "authorship_tag": "ABX9TyMiFA38Fi0E3wSiClbLYZDm",
      "provenance": []
    },
    "kernelspec": {
      "display_name": "Python 3",
      "name": "python3"
    },
    "language_info": {
      "name": "python"
    }
  },
  "nbformat": 4,
  "nbformat_minor": 0
}
