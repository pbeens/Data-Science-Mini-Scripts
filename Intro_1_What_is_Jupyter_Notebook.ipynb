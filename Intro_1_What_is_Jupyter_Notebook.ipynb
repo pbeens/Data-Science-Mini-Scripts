{
  "cells": [
    {
      "cell_type": "markdown",
      "metadata": {},
      "source": [
        "<a href=\"https://hub.callysto.ca/jupyter/hub/user-redirect/git-pull?repo=https%3A%2F%2Fgithub.com%2Fpbeens%2FData-Science-Mini-Scripts&branch=main&subPath=Intro_1_What_is_Jupyter_Notebook.ipynb&depth=1\" target=\"_blank\"><img src=\"https://raw.githubusercontent.com/Data-Dunkers/lessons/main/images/open-in-callysto-button.svg?sanitize=true\" width=\"123\" height=\"24\" alt=\"Open in Callysto\"></a>\n",
        "<a href=\"https://colab.research.google.com/github/pbeens/Data-Science-Mini-Scripts/blob/main/Intro_1_What_is_Jupyter_Notebook.ipynb\" target=\"_blank\">    <img src=\"https://raw.githubusercontent.com/Data-Dunkers/lessons/main/images/open-in-colab-button.svg?sanitize=true\" width=\"123\" height=\"24\" alt=\"Open in Colab\"></a>\n"
      ]
    },
    {
      "cell_type": "markdown",
      "metadata": {
        "id": "IcQBDkcx64uZ"
      },
      "source": [
        "A **Jupyter Notebook** is an interactive environment where you can:\n",
        "\n",
        "Write and run code (usually Python).\n",
        "Add explanations and reflections in plain text using **Markdown**.\n",
        "Visualize data instantly with graphs and tables.\n"
      ]
    },
    {
      "cell_type": "code",
      "execution_count": null,
      "metadata": {
        "id": "DvC6lj3s4khD"
      },
      "outputs": [],
      "source": [
        "import pandas as pd\n",
        "\n",
        "import plotly.express as px\n",
        "\n",
        "# Sample data\n",
        "\n",
        "df = pd.DataFrame({\n",
        "    'Day': ['Mon', 'Tue', 'Wed', 'Thu', 'Fri'],\n",
        "    'Rainfall (mm)': [0, 5, 10, 0, 3]\n",
        "})\n",
        "\n",
        "df.head()"
      ]
    },
    {
      "cell_type": "markdown",
      "metadata": {
        "id": "Dz8oVEd67GA6"
      },
      "source": [
        "Now let’s graph it:"
      ]
    },
    {
      "cell_type": "code",
      "execution_count": null,
      "metadata": {
        "id": "LmAUzTsn6v5h"
      },
      "outputs": [],
      "source": [
        "fig = px.bar(df, x='Day', y='Rainfall (mm)', title='Weekly Rainfall')\n",
        "\n",
        "fig.show()"
      ]
    }
  ],
  "metadata": {
    "colab": {
      "authorship_tag": "ABX9TyPLFS4JFQL19sOgCvrGz8Tt",
      "provenance": []
    },
    "kernelspec": {
      "display_name": "Python 3",
      "name": "python3"
    },
    "language_info": {
      "name": "python"
    }
  },
  "nbformat": 4,
  "nbformat_minor": 0
}
