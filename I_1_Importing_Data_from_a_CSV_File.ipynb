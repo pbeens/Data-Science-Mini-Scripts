{
  "cells": [
    {
      "cell_type": "markdown",
      "metadata": {},
      "source": [
        "<a href=\"https://hub.callysto.ca/jupyter/hub/user-redirect/git-pull?repo=https%3A%2F%2Fgithub.com%2Fpbeens%2FData-Science-Mini-Scripts&branch=main&subPath=Intro_1_What_is_Jupyter_Notebook.ipynb&depth=1\" target=\"_blank\"><img src=\"https://raw.githubusercontent.com/Data-Dunkers/lessons/main/images/open-in-callysto-button.svg?sanitize=true\" width=\"123\" height=\"24\" alt=\"Open in Callysto\"></a>\n",
        "<a href=\"https://colab.research.google.com/github/pbeens/Data-Science-Mini-Scripts/blob/main/Intro_1_What_is_Jupyter_Notebook.ipynb\" target=\"_blank\">    <img src=\"https://raw.githubusercontent.com/Data-Dunkers/lessons/main/images/open-in-colab-button.svg?sanitize=true\" width=\"123\" height=\"24\" alt=\"Open in Colab\"></a>\n"
      ]
    },
    {
      "cell_type": "code",
      "execution_count": null,
      "metadata": {
        "id": "ZYKQK9pAmBzG"
      },
      "outputs": [],
      "source": [
        "import pandas as pd"
      ]
    },
    {
      "cell_type": "code",
      "execution_count": null,
      "metadata": {
        "id": "JRfESIucmJFX"
      },
      "outputs": [],
      "source": [
        "url = \"https://gist.githubusercontent.com/pbeens/736198e988df01611376e500dd6d80bf/raw/060a8599641a838e9b1f2163d389c96c0e78f567/weather_data.csv\"\n",
        "df = pd.read_csv(url)"
      ]
    },
    {
      "cell_type": "code",
      "execution_count": null,
      "metadata": {
        "id": "Kn-lnFFFmMHT"
      },
      "outputs": [],
      "source": [
        "df.head()"
      ]
    }
  ],
  "metadata": {
    "colab": {
      "authorship_tag": "ABX9TyN7fnlD9K4ehMZS63sDpaTR",
      "provenance": []
    },
    "kernelspec": {
      "display_name": "Python 3",
      "name": "python3"
    },
    "language_info": {
      "name": "python"
    }
  },
  "nbformat": 4,
  "nbformat_minor": 0
}
