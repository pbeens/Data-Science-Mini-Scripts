{
  "nbformat": 4,
  "nbformat_minor": 0,
  "metadata": {
    "colab": {
      "provenance": [],
      "authorship_tag": "ABX9TyMiFA38Fi0E3wSiClbLYZDm"
    },
    "kernelspec": {
      "name": "python3",
      "display_name": "Python 3"
    },
    "language_info": {
      "name": "python"
    }
  },
  "cells": [
    {
      "cell_type": "code",
      "execution_count": null,
      "metadata": {
        "id": "mEec5RXIAV5B"
      },
      "outputs": [],
      "source": [
        "# Sample data\n",
        "\n",
        "df = pd.DataFrame({\n",
        "    'Day': ['Mon', 'Tue', 'Wed', 'Thu', 'Fri'],\n",
        "    'Rainfall (mm)': [0, 5, 10, 0, 3]\n",
        "})"
      ]
    },
    {
      "cell_type": "code",
      "source": [
        "!pip install plotly"
      ],
      "metadata": {
        "id": "RQQeGIPUAwS9"
      },
      "execution_count": null,
      "outputs": []
    },
    {
      "cell_type": "code",
      "source": [
        "!pip install --upgrade pandas"
      ],
      "metadata": {
        "id": "fegmJ--lA1vV"
      },
      "execution_count": null,
      "outputs": []
    },
    {
      "cell_type": "code",
      "source": [
        "!pip list"
      ],
      "metadata": {
        "id": "rZKrKOUoA2o-"
      },
      "execution_count": null,
      "outputs": []
    },
    {
      "cell_type": "code",
      "source": [],
      "metadata": {
        "id": "K-7ZanYkA7E2"
      },
      "execution_count": null,
      "outputs": []
    }
  ]
}