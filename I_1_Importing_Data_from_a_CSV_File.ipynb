{
  "nbformat": 4,
  "nbformat_minor": 0,
  "metadata": {
    "colab": {
      "provenance": [],
      "authorship_tag": "ABX9TyN7fnlD9K4ehMZS63sDpaTR"
    },
    "kernelspec": {
      "name": "python3",
      "display_name": "Python 3"
    },
    "language_info": {
      "name": "python"
    }
  },
  "cells": [
    {
      "cell_type": "code",
      "execution_count": null,
      "metadata": {
        "id": "ZYKQK9pAmBzG"
      },
      "outputs": [],
      "source": [
        "import pandas as pd"
      ]
    },
    {
      "cell_type": "code",
      "source": [
        "url = \"https://gist.githubusercontent.com/pbeens/736198e988df01611376e500dd6d80bf/raw/060a8599641a838e9b1f2163d389c96c0e78f567/weather_data.csv\"\n",
        "df = pd.read_csv(url)"
      ],
      "metadata": {
        "id": "JRfESIucmJFX"
      },
      "execution_count": null,
      "outputs": []
    },
    {
      "cell_type": "code",
      "source": [
        "df.head()"
      ],
      "metadata": {
        "id": "Kn-lnFFFmMHT"
      },
      "execution_count": null,
      "outputs": []
    }
  ]
}